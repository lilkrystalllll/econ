{
 "cells": [
  {
   "cell_type": "markdown",
   "id": "efa3fdc3",
   "metadata": {},
   "source": [
    "## Задание 1\n",
    "серийная корреляция — тест Bresuch-Godfrey\n",
    "\n",
    "диагностический тест на спецификацию — RESET-TEST, Harvey-Collier тест, Rainbow test\n",
    "\n",
    "тестирование на гетероскедастичность — Breusch Pagan, White's test\n",
    "\n",
    "проверка значимости параметра/гипотез — Wald test"
   ]
  },
  {
   "cell_type": "markdown",
   "id": "eb4852c1",
   "metadata": {},
   "source": [
    "## Задание 2"
   ]
  },
  {
   "cell_type": "markdown",
   "id": "d12aed6f",
   "metadata": {},
   "source": [
    "регрессия log(wage) на age IQ SOUTH URBAN"
   ]
  },
  {
   "cell_type": "code",
   "execution_count": 59,
   "id": "099e2409",
   "metadata": {},
   "outputs": [],
   "source": [
    "import numpy as np # linear algebra \n",
    "import pandas as pd # data processing, CSV file I/O (e.g. pd.read_csv)\n",
    "# stats models: regression fitting\n",
    "import statsmodels.formula.api as smf\n",
    "# data visualization\n",
    "import seaborn as sns\n",
    "from scipy.stats import t,f \n",
    "import statsmodels.api as sm\n",
    "import io\n",
    "import re\n",
    "from statsmodels.iolib.summary2 import summary_params\n",
    "from statsmodels.iolib.summary2 import summary_col\n",
    "import scipy.stats as stats\n",
    "import statsmodels.stats.api as sms # тесты\n",
    "from scipy.stats import chi2 # 𝜒2-распределение"
   ]
  },
  {
   "cell_type": "code",
   "execution_count": 4,
   "id": "de8c5798",
   "metadata": {},
   "outputs": [
    {
     "data": {
      "text/plain": [
       "(935, 17)"
      ]
     },
     "execution_count": 4,
     "metadata": {},
     "output_type": "execute_result"
    }
   ],
   "source": [
    "data1 = pd.read_csv('https://raw.githubusercontent.com/artamonoff/Econometrica/master/python-notebooks/data-csv/wage2.csv')\n",
    "data1.shape"
   ]
  },
  {
   "cell_type": "code",
   "execution_count": 9,
   "id": "e2035a66",
   "metadata": {},
   "outputs": [
    {
     "data": {
      "text/html": [
       "<table class=\"simpletable\">\n",
       "<caption>OLS Regression Results</caption>\n",
       "<tr>\n",
       "  <th>Dep. Variable:</th>      <td>np.log(wage)</td>   <th>  R-squared:         </th> <td>   0.178</td>\n",
       "</tr>\n",
       "<tr>\n",
       "  <th>Model:</th>                   <td>OLS</td>       <th>  Adj. R-squared:    </th> <td>   0.175</td>\n",
       "</tr>\n",
       "<tr>\n",
       "  <th>Method:</th>             <td>Least Squares</td>  <th>  F-statistic:       </th> <td>   50.40</td>\n",
       "</tr>\n",
       "<tr>\n",
       "  <th>Date:</th>             <td>Mon, 29 May 2023</td> <th>  Prob (F-statistic):</th> <td>1.99e-38</td>\n",
       "</tr>\n",
       "<tr>\n",
       "  <th>Time:</th>                 <td>21:03:51</td>     <th>  Log-Likelihood:    </th> <td> -425.91</td>\n",
       "</tr>\n",
       "<tr>\n",
       "  <th>No. Observations:</th>      <td>   935</td>      <th>  AIC:               </th> <td>   861.8</td>\n",
       "</tr>\n",
       "<tr>\n",
       "  <th>Df Residuals:</th>          <td>   930</td>      <th>  BIC:               </th> <td>   886.0</td>\n",
       "</tr>\n",
       "<tr>\n",
       "  <th>Df Model:</th>              <td>     4</td>      <th>                     </th>     <td> </td>   \n",
       "</tr>\n",
       "<tr>\n",
       "  <th>Covariance Type:</th>      <td>nonrobust</td>    <th>                     </th>     <td> </td>   \n",
       "</tr>\n",
       "</table>\n",
       "<table class=\"simpletable\">\n",
       "<tr>\n",
       "      <td></td>         <th>coef</th>     <th>std err</th>      <th>t</th>      <th>P>|t|</th>  <th>[0.025</th>    <th>0.975]</th>  \n",
       "</tr>\n",
       "<tr>\n",
       "  <th>Intercept</th> <td>    5.0871</td> <td>    0.166</td> <td>   30.648</td> <td> 0.000</td> <td>    4.761</td> <td>    5.413</td>\n",
       "</tr>\n",
       "<tr>\n",
       "  <th>age</th>       <td>    0.0234</td> <td>    0.004</td> <td>    5.797</td> <td> 0.000</td> <td>    0.015</td> <td>    0.031</td>\n",
       "</tr>\n",
       "<tr>\n",
       "  <th>IQ</th>        <td>    0.0082</td> <td>    0.001</td> <td>    9.608</td> <td> 0.000</td> <td>    0.007</td> <td>    0.010</td>\n",
       "</tr>\n",
       "<tr>\n",
       "  <th>south</th>     <td>   -0.0962</td> <td>    0.027</td> <td>   -3.543</td> <td> 0.000</td> <td>   -0.150</td> <td>   -0.043</td>\n",
       "</tr>\n",
       "<tr>\n",
       "  <th>urban</th>     <td>    0.1699</td> <td>    0.028</td> <td>    6.073</td> <td> 0.000</td> <td>    0.115</td> <td>    0.225</td>\n",
       "</tr>\n",
       "</table>\n",
       "<table class=\"simpletable\">\n",
       "<tr>\n",
       "  <th>Omnibus:</th>       <td>41.253</td> <th>  Durbin-Watson:     </th> <td>   1.871</td>\n",
       "</tr>\n",
       "<tr>\n",
       "  <th>Prob(Omnibus):</th> <td> 0.000</td> <th>  Jarque-Bera (JB):  </th> <td>  73.376</td>\n",
       "</tr>\n",
       "<tr>\n",
       "  <th>Skew:</th>          <td>-0.323</td> <th>  Prob(JB):          </th> <td>1.17e-16</td>\n",
       "</tr>\n",
       "<tr>\n",
       "  <th>Kurtosis:</th>      <td> 4.211</td> <th>  Cond. No.          </th> <td>1.43e+03</td>\n",
       "</tr>\n",
       "</table><br/><br/>Notes:<br/>[1] Standard Errors assume that the covariance matrix of the errors is correctly specified.<br/>[2] The condition number is large, 1.43e+03. This might indicate that there are<br/>strong multicollinearity or other numerical problems."
      ],
      "text/plain": [
       "<class 'statsmodels.iolib.summary.Summary'>\n",
       "\"\"\"\n",
       "                            OLS Regression Results                            \n",
       "==============================================================================\n",
       "Dep. Variable:           np.log(wage)   R-squared:                       0.178\n",
       "Model:                            OLS   Adj. R-squared:                  0.175\n",
       "Method:                 Least Squares   F-statistic:                     50.40\n",
       "Date:                Mon, 29 May 2023   Prob (F-statistic):           1.99e-38\n",
       "Time:                        21:03:51   Log-Likelihood:                -425.91\n",
       "No. Observations:                 935   AIC:                             861.8\n",
       "Df Residuals:                     930   BIC:                             886.0\n",
       "Df Model:                           4                                         \n",
       "Covariance Type:            nonrobust                                         \n",
       "==============================================================================\n",
       "                 coef    std err          t      P>|t|      [0.025      0.975]\n",
       "------------------------------------------------------------------------------\n",
       "Intercept      5.0871      0.166     30.648      0.000       4.761       5.413\n",
       "age            0.0234      0.004      5.797      0.000       0.015       0.031\n",
       "IQ             0.0082      0.001      9.608      0.000       0.007       0.010\n",
       "south         -0.0962      0.027     -3.543      0.000      -0.150      -0.043\n",
       "urban          0.1699      0.028      6.073      0.000       0.115       0.225\n",
       "==============================================================================\n",
       "Omnibus:                       41.253   Durbin-Watson:                   1.871\n",
       "Prob(Omnibus):                  0.000   Jarque-Bera (JB):               73.376\n",
       "Skew:                          -0.323   Prob(JB):                     1.17e-16\n",
       "Kurtosis:                       4.211   Cond. No.                     1.43e+03\n",
       "==============================================================================\n",
       "\n",
       "Notes:\n",
       "[1] Standard Errors assume that the covariance matrix of the errors is correctly specified.\n",
       "[2] The condition number is large, 1.43e+03. This might indicate that there are\n",
       "strong multicollinearity or other numerical problems.\n",
       "\"\"\""
      ]
     },
     "execution_count": 9,
     "metadata": {},
     "output_type": "execute_result"
    }
   ],
   "source": [
    "# Модель 1\n",
    "# Создаем спецификацию модели через формулу и подгоняем модель\n",
    "Wage_eq1 = smf.ols(formula = 'np.log(wage)~age+IQ+south+urban', data = data1).fit()\n",
    "Wage_eq1.summary()"
   ]
  },
  {
   "cell_type": "code",
   "execution_count": 10,
   "id": "19997df9",
   "metadata": {},
   "outputs": [
    {
     "data": {
      "text/html": [
       "<table class=\"simpletable\">\n",
       "<tr>\n",
       "         <td></td>        <th>np.log(wage)</th>\n",
       "</tr>\n",
       "<tr>\n",
       "  <th>Intercept</th>         <td>5.0871</td>   \n",
       "</tr>\n",
       "<tr>\n",
       "  <th></th>                 <td>(0.1660)</td>  \n",
       "</tr>\n",
       "<tr>\n",
       "  <th>age</th>               <td>0.0234</td>   \n",
       "</tr>\n",
       "<tr>\n",
       "  <th></th>                 <td>(0.0040)</td>  \n",
       "</tr>\n",
       "<tr>\n",
       "  <th>IQ</th>                <td>0.0082</td>   \n",
       "</tr>\n",
       "<tr>\n",
       "  <th></th>                 <td>(0.0009)</td>  \n",
       "</tr>\n",
       "<tr>\n",
       "  <th>south</th>             <td>-0.0962</td>  \n",
       "</tr>\n",
       "<tr>\n",
       "  <th></th>                 <td>(0.0272)</td>  \n",
       "</tr>\n",
       "<tr>\n",
       "  <th>urban</th>             <td>0.1699</td>   \n",
       "</tr>\n",
       "<tr>\n",
       "  <th></th>                 <td>(0.0280)</td>  \n",
       "</tr>\n",
       "<tr>\n",
       "  <th>R-squared</th>         <td>0.1782</td>   \n",
       "</tr>\n",
       "<tr>\n",
       "  <th>R-squared Adj.</th>    <td>0.1746</td>   \n",
       "</tr>\n",
       "</table>"
      ],
      "text/plain": [
       "<class 'statsmodels.iolib.summary2.Summary'>\n",
       "\"\"\"\n",
       "\n",
       "===========================\n",
       "               np.log(wage)\n",
       "---------------------------\n",
       "Intercept      5.0871      \n",
       "               (0.1660)    \n",
       "age            0.0234      \n",
       "               (0.0040)    \n",
       "IQ             0.0082      \n",
       "               (0.0009)    \n",
       "south          -0.0962     \n",
       "               (0.0272)    \n",
       "urban          0.1699      \n",
       "               (0.0280)    \n",
       "R-squared      0.1782      \n",
       "R-squared Adj. 0.1746      \n",
       "===========================\n",
       "Standard errors in\n",
       "parentheses.\n",
       "\"\"\""
      ]
     },
     "execution_count": 10,
     "metadata": {},
     "output_type": "execute_result"
    }
   ],
   "source": [
    "\n",
    "summary_col(Wage_eq1, stars=None)"
   ]
  },
  {
   "cell_type": "code",
   "execution_count": 11,
   "id": "d2f81842",
   "metadata": {},
   "outputs": [
    {
     "name": "stdout",
     "output_type": "stream",
     "text": [
      "\n",
      "===========================\n",
      "               np.log(wage)\n",
      "---------------------------\n",
      "Intercept      5.0871***   \n",
      "               (0.1660)    \n",
      "age            0.0234***   \n",
      "               (0.0040)    \n",
      "IQ             0.0082***   \n",
      "               (0.0009)    \n",
      "south          -0.0962***  \n",
      "               (0.0272)    \n",
      "urban          0.1699***   \n",
      "               (0.0280)    \n",
      "R-squared      0.1782      \n",
      "R-squared Adj. 0.1746      \n",
      "===========================\n",
      "Standard errors in\n",
      "parentheses.\n",
      "* p<.1, ** p<.05, ***p<.01\n"
     ]
    }
   ],
   "source": [
    "print(summary_col(Wage_eq1, stars=True))"
   ]
  },
  {
   "cell_type": "code",
   "execution_count": 12,
   "id": "6e2a0963",
   "metadata": {},
   "outputs": [
    {
     "data": {
      "text/html": [
       "<div>\n",
       "<style scoped>\n",
       "    .dataframe tbody tr th:only-of-type {\n",
       "        vertical-align: middle;\n",
       "    }\n",
       "\n",
       "    .dataframe tbody tr th {\n",
       "        vertical-align: top;\n",
       "    }\n",
       "\n",
       "    .dataframe thead th {\n",
       "        text-align: right;\n",
       "    }\n",
       "</style>\n",
       "<table border=\"1\" class=\"dataframe\">\n",
       "  <thead>\n",
       "    <tr style=\"text-align: right;\">\n",
       "      <th></th>\n",
       "      <th>age</th>\n",
       "      <th>IQ</th>\n",
       "      <th>south</th>\n",
       "      <th>urban</th>\n",
       "    </tr>\n",
       "  </thead>\n",
       "  <tbody>\n",
       "    <tr>\n",
       "      <th>0</th>\n",
       "      <td>39</td>\n",
       "      <td>115</td>\n",
       "      <td>0</td>\n",
       "      <td>1</td>\n",
       "    </tr>\n",
       "    <tr>\n",
       "      <th>1</th>\n",
       "      <td>27</td>\n",
       "      <td>106</td>\n",
       "      <td>1</td>\n",
       "      <td>1</td>\n",
       "    </tr>\n",
       "    <tr>\n",
       "      <th>2</th>\n",
       "      <td>23</td>\n",
       "      <td>113</td>\n",
       "      <td>1</td>\n",
       "      <td>0</td>\n",
       "    </tr>\n",
       "    <tr>\n",
       "      <th>3</th>\n",
       "      <td>32</td>\n",
       "      <td>102</td>\n",
       "      <td>0</td>\n",
       "      <td>1</td>\n",
       "    </tr>\n",
       "  </tbody>\n",
       "</table>\n",
       "</div>"
      ],
      "text/plain": [
       "   age   IQ  south  urban\n",
       "0   39  115      0      1\n",
       "1   27  106      1      1\n",
       "2   23  113      1      0\n",
       "3   32  102      0      1"
      ]
     },
     "execution_count": 12,
     "metadata": {},
     "output_type": "execute_result"
    }
   ],
   "source": [
    "data_string = '''№  age IQ south urban \n",
    "1  39  115    0    1    \n",
    "2  27  106    1    1   \n",
    "3  23  113    1    0  \n",
    "4  32  102    0    1'''\n",
    "wn_df = pd.read_csv(io.StringIO(data_string), sep='\\s+')\n",
    "wn_df.drop(columns='№', inplace=True)\n",
    "wn_df"
   ]
  },
  {
   "cell_type": "code",
   "execution_count": 13,
   "id": "d0a67a71",
   "metadata": {},
   "outputs": [
    {
     "data": {
      "text/html": [
       "<div>\n",
       "<style scoped>\n",
       "    .dataframe tbody tr th:only-of-type {\n",
       "        vertical-align: middle;\n",
       "    }\n",
       "\n",
       "    .dataframe tbody tr th {\n",
       "        vertical-align: top;\n",
       "    }\n",
       "\n",
       "    .dataframe thead th {\n",
       "        text-align: right;\n",
       "    }\n",
       "</style>\n",
       "<table border=\"1\" class=\"dataframe\">\n",
       "  <thead>\n",
       "    <tr style=\"text-align: right;\">\n",
       "      <th></th>\n",
       "      <th>age</th>\n",
       "      <th>IQ</th>\n",
       "      <th>south</th>\n",
       "      <th>urban</th>\n",
       "    </tr>\n",
       "  </thead>\n",
       "  <tbody>\n",
       "    <tr>\n",
       "      <th>0</th>\n",
       "      <td>39</td>\n",
       "      <td>115</td>\n",
       "      <td>0</td>\n",
       "      <td>1</td>\n",
       "    </tr>\n",
       "    <tr>\n",
       "      <th>1</th>\n",
       "      <td>27</td>\n",
       "      <td>106</td>\n",
       "      <td>1</td>\n",
       "      <td>1</td>\n",
       "    </tr>\n",
       "    <tr>\n",
       "      <th>2</th>\n",
       "      <td>23</td>\n",
       "      <td>113</td>\n",
       "      <td>1</td>\n",
       "      <td>0</td>\n",
       "    </tr>\n",
       "    <tr>\n",
       "      <th>3</th>\n",
       "      <td>32</td>\n",
       "      <td>102</td>\n",
       "      <td>0</td>\n",
       "      <td>1</td>\n",
       "    </tr>\n",
       "  </tbody>\n",
       "</table>\n",
       "</div>"
      ],
      "text/plain": [
       "   age   IQ  south  urban\n",
       "0   39  115      0      1\n",
       "1   27  106      1      1\n",
       "2   23  113      1      0\n",
       "3   32  102      0      1"
      ]
     },
     "execution_count": 13,
     "metadata": {},
     "output_type": "execute_result"
    }
   ],
   "source": [
    "Wage_new = pd.DataFrame({'age': [39,27,23,32],\n",
    "                        'IQ': [115,106,113,102],\n",
    "                        'south': [0,1,1,0],\n",
    "                        'urban': [1,1,0,1]})\n",
    "Wage_new"
   ]
  },
  {
   "cell_type": "code",
   "execution_count": 15,
   "id": "05d9c5e3",
   "metadata": {},
   "outputs": [
    {
     "data": {
      "text/plain": [
       "0    7.11\n",
       "1    6.66\n",
       "2    6.45\n",
       "3    6.84\n",
       "dtype: float64"
      ]
     },
     "execution_count": 15,
     "metadata": {},
     "output_type": "execute_result"
    }
   ],
   "source": [
    "# predict log(wage)\n",
    "LOG_wage = Wage_eq1.predict(Wage_new)\n",
    "LOG_wage.round(2)"
   ]
  },
  {
   "cell_type": "code",
   "execution_count": 16,
   "id": "95376a28",
   "metadata": {},
   "outputs": [
    {
     "data": {
      "text/plain": [
       "pandas.core.series.Series"
      ]
     },
     "execution_count": 16,
     "metadata": {},
     "output_type": "execute_result"
    }
   ],
   "source": [
    "type(LOG_wage)"
   ]
  },
  {
   "cell_type": "code",
   "execution_count": 18,
   "id": "8badd333",
   "metadata": {},
   "outputs": [
    {
     "data": {
      "text/html": [
       "<div>\n",
       "<style scoped>\n",
       "    .dataframe tbody tr th:only-of-type {\n",
       "        vertical-align: middle;\n",
       "    }\n",
       "\n",
       "    .dataframe tbody tr th {\n",
       "        vertical-align: top;\n",
       "    }\n",
       "\n",
       "    .dataframe thead th {\n",
       "        text-align: right;\n",
       "    }\n",
       "</style>\n",
       "<table border=\"1\" class=\"dataframe\">\n",
       "  <thead>\n",
       "    <tr style=\"text-align: right;\">\n",
       "      <th></th>\n",
       "      <th>np.log(wage)</th>\n",
       "    </tr>\n",
       "  </thead>\n",
       "  <tbody>\n",
       "    <tr>\n",
       "      <th>0</th>\n",
       "      <td>7.11</td>\n",
       "    </tr>\n",
       "    <tr>\n",
       "      <th>1</th>\n",
       "      <td>6.66</td>\n",
       "    </tr>\n",
       "    <tr>\n",
       "      <th>2</th>\n",
       "      <td>6.45</td>\n",
       "    </tr>\n",
       "    <tr>\n",
       "      <th>3</th>\n",
       "      <td>6.84</td>\n",
       "    </tr>\n",
       "  </tbody>\n",
       "</table>\n",
       "</div>"
      ],
      "text/plain": [
       "   np.log(wage)\n",
       "0          7.11\n",
       "1          6.66\n",
       "2          6.45\n",
       "3          6.84"
      ]
     },
     "execution_count": 18,
     "metadata": {},
     "output_type": "execute_result"
    }
   ],
   "source": [
    "#Convert pandas Series to DataFrame\n",
    "# через конструктор\n",
    "pd.DataFrame({'np.log(wage)': LOG_wage.values}).round(2)"
   ]
  },
  {
   "cell_type": "code",
   "execution_count": 19,
   "id": "196c97ad",
   "metadata": {},
   "outputs": [
    {
     "data": {
      "text/plain": [
       "0    1224.84\n",
       "1     780.49\n",
       "2     635.09\n",
       "3     934.86\n",
       "dtype: float64"
      ]
     },
     "execution_count": 19,
     "metadata": {},
     "output_type": "execute_result"
    }
   ],
   "source": [
    "# predict wage\n",
    "np.exp(LOG_wage).round(2)"
   ]
  },
  {
   "cell_type": "code",
   "execution_count": 20,
   "id": "9a7060b7",
   "metadata": {},
   "outputs": [
    {
     "data": {
      "text/html": [
       "<div>\n",
       "<style scoped>\n",
       "    .dataframe tbody tr th:only-of-type {\n",
       "        vertical-align: middle;\n",
       "    }\n",
       "\n",
       "    .dataframe tbody tr th {\n",
       "        vertical-align: top;\n",
       "    }\n",
       "\n",
       "    .dataframe thead th {\n",
       "        text-align: right;\n",
       "    }\n",
       "</style>\n",
       "<table border=\"1\" class=\"dataframe\">\n",
       "  <thead>\n",
       "    <tr style=\"text-align: right;\">\n",
       "      <th></th>\n",
       "      <th>wage</th>\n",
       "    </tr>\n",
       "  </thead>\n",
       "  <tbody>\n",
       "    <tr>\n",
       "      <th>0</th>\n",
       "      <td>1224.84</td>\n",
       "    </tr>\n",
       "    <tr>\n",
       "      <th>1</th>\n",
       "      <td>780.49</td>\n",
       "    </tr>\n",
       "    <tr>\n",
       "      <th>2</th>\n",
       "      <td>635.09</td>\n",
       "    </tr>\n",
       "    <tr>\n",
       "      <th>3</th>\n",
       "      <td>934.86</td>\n",
       "    </tr>\n",
       "  </tbody>\n",
       "</table>\n",
       "</div>"
      ],
      "text/plain": [
       "      wage\n",
       "0  1224.84\n",
       "1   780.49\n",
       "2   635.09\n",
       "3   934.86"
      ]
     },
     "execution_count": 20,
     "metadata": {},
     "output_type": "execute_result"
    }
   ],
   "source": [
    "# predict wage\n",
    "np.exp(LOG_wage).round(2).to_frame(name='wage')"
   ]
  },
  {
   "cell_type": "code",
   "execution_count": 21,
   "id": "0f10c579",
   "metadata": {},
   "outputs": [],
   "source": [
    "#ответ — для 3 чела зп 635.09"
   ]
  },
  {
   "cell_type": "markdown",
   "id": "846e1b7e",
   "metadata": {},
   "source": [
    "## Задание 3"
   ]
  },
  {
   "cell_type": "code",
   "execution_count": 23,
   "id": "d7725e48",
   "metadata": {},
   "outputs": [
    {
     "data": {
      "text/html": [
       "<div>\n",
       "<style scoped>\n",
       "    .dataframe tbody tr th:only-of-type {\n",
       "        vertical-align: middle;\n",
       "    }\n",
       "\n",
       "    .dataframe tbody tr th {\n",
       "        vertical-align: top;\n",
       "    }\n",
       "\n",
       "    .dataframe thead th {\n",
       "        text-align: right;\n",
       "    }\n",
       "</style>\n",
       "<table border=\"1\" class=\"dataframe\">\n",
       "  <thead>\n",
       "    <tr style=\"text-align: right;\">\n",
       "      <th></th>\n",
       "      <th>Unnamed: 0</th>\n",
       "      <th>pai1</th>\n",
       "      <th>pai3</th>\n",
       "      <th>tb1</th>\n",
       "      <th>tb3</th>\n",
       "      <th>cpi</th>\n",
       "      <th>d_log_cpi</th>\n",
       "    </tr>\n",
       "  </thead>\n",
       "  <tbody>\n",
       "    <tr>\n",
       "      <th>0</th>\n",
       "      <td>1</td>\n",
       "      <td>-3.552289</td>\n",
       "      <td>1.129370</td>\n",
       "      <td>1.100854</td>\n",
       "      <td>1.129406</td>\n",
       "      <td>23.5</td>\n",
       "      <td>NaN</td>\n",
       "    </tr>\n",
       "    <tr>\n",
       "      <th>1</th>\n",
       "      <td>2</td>\n",
       "      <td>5.247540</td>\n",
       "      <td>4.001566</td>\n",
       "      <td>1.125513</td>\n",
       "      <td>1.137254</td>\n",
       "      <td>23.6</td>\n",
       "      <td>0.004246</td>\n",
       "    </tr>\n",
       "    <tr>\n",
       "      <th>2</th>\n",
       "      <td>3</td>\n",
       "      <td>1.692860</td>\n",
       "      <td>4.492160</td>\n",
       "      <td>1.115715</td>\n",
       "      <td>1.142319</td>\n",
       "      <td>23.6</td>\n",
       "      <td>0.000000</td>\n",
       "    </tr>\n",
       "    <tr>\n",
       "      <th>3</th>\n",
       "      <td>4</td>\n",
       "      <td>5.064298</td>\n",
       "      <td>7.817513</td>\n",
       "      <td>1.146380</td>\n",
       "      <td>1.177902</td>\n",
       "      <td>23.7</td>\n",
       "      <td>0.004228</td>\n",
       "    </tr>\n",
       "    <tr>\n",
       "      <th>4</th>\n",
       "      <td>5</td>\n",
       "      <td>6.719322</td>\n",
       "      <td>9.433580</td>\n",
       "      <td>1.158520</td>\n",
       "      <td>1.167777</td>\n",
       "      <td>23.8</td>\n",
       "      <td>0.004211</td>\n",
       "    </tr>\n",
       "  </tbody>\n",
       "</table>\n",
       "</div>"
      ],
      "text/plain": [
       "   Unnamed: 0      pai1      pai3       tb1       tb3   cpi  d_log_cpi\n",
       "0           1 -3.552289  1.129370  1.100854  1.129406  23.5        NaN\n",
       "1           2  5.247540  4.001566  1.125513  1.137254  23.6   0.004246\n",
       "2           3  1.692860  4.492160  1.115715  1.142319  23.6   0.000000\n",
       "3           4  5.064298  7.817513  1.146380  1.177902  23.7   0.004228\n",
       "4           5  6.719322  9.433580  1.158520  1.167777  23.8   0.004211"
      ]
     },
     "execution_count": 23,
     "metadata": {},
     "output_type": "execute_result"
    }
   ],
   "source": [
    "misha_df = pd.read_csv('https://raw.githubusercontent.com/artamonoff/Econometrica/master/python-notebooks/data-csv/Mishkin.csv')\n",
    "# добавим первые равности к датасету использую метод .diff()\n",
    "misha_df[['d_log_cpi']] = np.log(misha_df[['cpi']]).diff()\n",
    "misha_df.head()\n",
    "# тест отсутствие или наличие корреляции 3 порядка"
   ]
  },
  {
   "cell_type": "code",
   "execution_count": 26,
   "id": "7460fddb",
   "metadata": {},
   "outputs": [
    {
     "data": {
      "text/html": [
       "<table class=\"simpletable\">\n",
       "<caption>OLS Regression Results</caption>\n",
       "<tr>\n",
       "  <th>Dep. Variable:</th>      <td>pai3</td>    <th>  R-squared:         </th> <td>   0.646</td> \n",
       "</tr>\n",
       "<tr>\n",
       "  <th>Model:</th>               <td>OLS</td>    <th>  Adj. R-squared:    </th> <td>   0.644</td> \n",
       "</tr>\n",
       "<tr>\n",
       "  <th>No. Observations:</th>  <td>   490</td>   <th>  F-statistic:       </th> <td>   443.8</td> \n",
       "</tr>\n",
       "<tr>\n",
       "  <th>Covariance Type:</th>  <td>nonrobust</td> <th>  Prob (F-statistic):</th> <td>1.85e-110</td>\n",
       "</tr>\n",
       "</table>\n",
       "<table class=\"simpletable\">\n",
       "<tr>\n",
       "      <td></td>         <th>coef</th>     <th>std err</th>      <th>t</th>      <th>P>|t|</th>  <th>[0.025</th>    <th>0.975]</th>  \n",
       "</tr>\n",
       "<tr>\n",
       "  <th>Intercept</th> <td>    0.6039</td> <td>    0.173</td> <td>    3.483</td> <td> 0.001</td> <td>    0.263</td> <td>    0.945</td>\n",
       "</tr>\n",
       "<tr>\n",
       "  <th>tb3</th>       <td>    0.2480</td> <td>    0.032</td> <td>    7.870</td> <td> 0.000</td> <td>    0.186</td> <td>    0.310</td>\n",
       "</tr>\n",
       "<tr>\n",
       "  <th>d_log_cpi</th> <td>  584.9371</td> <td>   27.614</td> <td>   21.182</td> <td> 0.000</td> <td>  530.679</td> <td>  639.195</td>\n",
       "</tr>\n",
       "</table><br/><br/>Notes:<br/>[1] Standard Errors assume that the covariance matrix of the errors is correctly specified.<br/>[2] The condition number is large,  2e+03. This might indicate that there are<br/>strong multicollinearity or other numerical problems."
      ],
      "text/plain": [
       "<class 'statsmodels.iolib.summary.Summary'>\n",
       "\"\"\"\n",
       "                            OLS Regression Results                            \n",
       "==============================================================================\n",
       "Dep. Variable:                   pai3   R-squared:                       0.646\n",
       "Model:                            OLS   Adj. R-squared:                  0.644\n",
       "No. Observations:                 490   F-statistic:                     443.8\n",
       "Covariance Type:            nonrobust   Prob (F-statistic):          1.85e-110\n",
       "==============================================================================\n",
       "                 coef    std err          t      P>|t|      [0.025      0.975]\n",
       "------------------------------------------------------------------------------\n",
       "Intercept      0.6039      0.173      3.483      0.001       0.263       0.945\n",
       "tb3            0.2480      0.032      7.870      0.000       0.186       0.310\n",
       "d_log_cpi    584.9371     27.614     21.182      0.000     530.679     639.195\n",
       "==============================================================================\n",
       "\n",
       "Notes:\n",
       "[1] Standard Errors assume that the covariance matrix of the errors is correctly specified.\n",
       "[2] The condition number is large,  2e+03. This might indicate that there are\n",
       "strong multicollinearity or other numerical problems.\n",
       "\"\"\""
      ]
     },
     "execution_count": 26,
     "metadata": {},
     "output_type": "execute_result"
    }
   ],
   "source": [
    "mod_misha = smf.ols(formula='pai3~tb3+d_log_cpi', data=misha_df).fit()\n",
    "mod_misha.summary(slim=True)"
   ]
  },
  {
   "cell_type": "code",
   "execution_count": 39,
   "id": "a9728b7a",
   "metadata": {},
   "outputs": [
    {
     "data": {
      "text/plain": [
       "(180.786, 0.0)"
      ]
     },
     "execution_count": 39,
     "metadata": {},
     "output_type": "execute_result"
    }
   ],
   "source": [
    "LM, LMpval, F, Fpval = sms.acorr_breusch_godfrey(mod_misha, nlags=3)\n",
    "LM.round(3), LMpval.round(3)\n",
    "#тестовая статистика и p-значение"
   ]
  },
  {
   "cell_type": "markdown",
   "id": "f03a338f",
   "metadata": {},
   "source": [
    "10%-критическое значение $\\chi^2_{df=3}$"
   ]
  },
  {
   "cell_type": "code",
   "execution_count": 38,
   "id": "d15c3bdd",
   "metadata": {},
   "outputs": [
    {
     "data": {
      "text/plain": [
       "6.251"
      ]
     },
     "execution_count": 38,
     "metadata": {},
     "output_type": "execute_result"
    }
   ],
   "source": [
    "Misha_crit=chi2.ppf(q=1-0.1, df=3)\n",
    "Misha_crit.round(3)\n",
    "#Misha_stat=180.786>Misha_crit=6.251 => отвергаем H0 => присутствует серийная корреляция"
   ]
  },
  {
   "cell_type": "markdown",
   "id": "b1b697cb",
   "metadata": {},
   "source": [
    "тестовая стат<крит статистика => не отвергаем H0 => отсутствует серийная корреляция"
   ]
  },
  {
   "cell_type": "code",
   "execution_count": 37,
   "id": "ba3f4988",
   "metadata": {},
   "outputs": [],
   "source": [
    "#Перепроверка"
   ]
  },
  {
   "cell_type": "markdown",
   "id": "d57a34c5",
   "metadata": {},
   "source": [
    "    LMpval=0.000<chivalue=0.1=>нулевая гипотеза отвергается => присутствует серийная корреляция"
   ]
  },
  {
   "cell_type": "markdown",
   "id": "ced956f2",
   "metadata": {},
   "source": [
    "## Задание 4"
   ]
  },
  {
   "cell_type": "code",
   "execution_count": 42,
   "id": "b7fc53b9",
   "metadata": {},
   "outputs": [],
   "source": [
    "import numpy as np # linear algebra \n",
    "import pandas as pd # data processing, CSV file I/O (e.g. pd.read_csv)\n",
    " #stats models: regression fitting\n",
    "import statsmodels.formula.api as smf\n",
    " # data visualization\n",
    "import seaborn as sns\n",
    "from scipy.stats import t \n",
    "import statsmodels.api as sm\n",
    "import io\n",
    "import re\n",
    "from statsmodels.iolib.summary2 import summary_params\n",
    "from statsmodels.iolib.summary2 import summary_col\n",
    "import scipy.stats as stats\n",
    "import statsmodels.stats.api as sms # тесты\n",
    "from scipy.stats import chi2 # 𝜒2-распределение"
   ]
  },
  {
   "cell_type": "code",
   "execution_count": 64,
   "id": "f477e772",
   "metadata": {},
   "outputs": [
    {
     "data": {
      "text/html": [
       "<table class=\"simpletable\">\n",
       "<caption>OLS Regression Results</caption>\n",
       "<tr>\n",
       "  <th>Dep. Variable:</th>    <td>np.log(price)</td> <th>  R-squared:         </th> <td>   0.933</td> \n",
       "</tr>\n",
       "<tr>\n",
       "  <th>Model:</th>                 <td>OLS</td>      <th>  Adj. R-squared:    </th> <td>   0.933</td> \n",
       "</tr>\n",
       "<tr>\n",
       "  <th>No. Observations:</th>    <td> 53940</td>     <th>  F-statistic:       </th> <td>1.510e+05</td>\n",
       "</tr>\n",
       "<tr>\n",
       "  <th>Covariance Type:</th>    <td>nonrobust</td>   <th>  Prob (F-statistic):</th>  <td>  0.00</td>  \n",
       "</tr>\n",
       "</table>\n",
       "<table class=\"simpletable\">\n",
       "<tr>\n",
       "        <td></td>           <th>coef</th>     <th>std err</th>      <th>t</th>      <th>P>|t|</th>  <th>[0.025</th>    <th>0.975]</th>  \n",
       "</tr>\n",
       "<tr>\n",
       "  <th>Intercept</th>     <td>    3.8839</td> <td>    0.029</td> <td>  135.007</td> <td> 0.000</td> <td>    3.828</td> <td>    3.940</td>\n",
       "</tr>\n",
       "<tr>\n",
       "  <th>carat</th>         <td>    2.1877</td> <td>    0.032</td> <td>   67.375</td> <td> 0.000</td> <td>    2.124</td> <td>    2.251</td>\n",
       "</tr>\n",
       "<tr>\n",
       "  <th>I(carat ** 2)</th> <td>   -0.6106</td> <td>    0.007</td> <td>  -92.533</td> <td> 0.000</td> <td>   -0.624</td> <td>   -0.598</td>\n",
       "</tr>\n",
       "<tr>\n",
       "  <th>x</th>             <td>    0.4155</td> <td>    0.009</td> <td>   44.603</td> <td> 0.000</td> <td>    0.397</td> <td>    0.434</td>\n",
       "</tr>\n",
       "<tr>\n",
       "  <th>y</th>             <td>    0.0285</td> <td>    0.004</td> <td>    6.413</td> <td> 0.000</td> <td>    0.020</td> <td>    0.037</td>\n",
       "</tr>\n",
       "<tr>\n",
       "  <th>z</th>             <td>    0.0391</td> <td>    0.007</td> <td>    5.653</td> <td> 0.000</td> <td>    0.026</td> <td>    0.053</td>\n",
       "</tr>\n",
       "</table><br/><br/>Notes:<br/>[1] Standard Errors assume that the covariance matrix of the errors is correctly specified."
      ],
      "text/plain": [
       "<class 'statsmodels.iolib.summary.Summary'>\n",
       "\"\"\"\n",
       "                            OLS Regression Results                            \n",
       "==============================================================================\n",
       "Dep. Variable:          np.log(price)   R-squared:                       0.933\n",
       "Model:                            OLS   Adj. R-squared:                  0.933\n",
       "No. Observations:               53940   F-statistic:                 1.510e+05\n",
       "Covariance Type:            nonrobust   Prob (F-statistic):               0.00\n",
       "=================================================================================\n",
       "                    coef    std err          t      P>|t|      [0.025      0.975]\n",
       "---------------------------------------------------------------------------------\n",
       "Intercept         3.8839      0.029    135.007      0.000       3.828       3.940\n",
       "carat             2.1877      0.032     67.375      0.000       2.124       2.251\n",
       "I(carat ** 2)    -0.6106      0.007    -92.533      0.000      -0.624      -0.598\n",
       "x                 0.4155      0.009     44.603      0.000       0.397       0.434\n",
       "y                 0.0285      0.004      6.413      0.000       0.020       0.037\n",
       "z                 0.0391      0.007      5.653      0.000       0.026       0.053\n",
       "=================================================================================\n",
       "\n",
       "Notes:\n",
       "[1] Standard Errors assume that the covariance matrix of the errors is correctly specified.\n",
       "\"\"\""
      ]
     },
     "execution_count": 64,
     "metadata": {},
     "output_type": "execute_result"
    }
   ],
   "source": [
    "di_df = pd.read_csv('https://raw.githubusercontent.com/artamonoff/Econometrica/master/python-notebooks/data-csv/diamonds.csv')\n",
    "di_eq = 'np.log(price)~carat+I(carat**2)+x+y+z'\n",
    "mod=smf.ols(formula = di_eq, data=di_df).fit()\n",
    "mod.summary(slim=True)"
   ]
  },
  {
   "cell_type": "code",
   "execution_count": 65,
   "id": "07801276",
   "metadata": {},
   "outputs": [
    {
     "data": {
      "text/plain": [
       "(4712.162203822872, 0.0, 1032.5286166467336, 0.0)"
      ]
     },
     "execution_count": 65,
     "metadata": {},
     "output_type": "execute_result"
    }
   ],
   "source": [
    "sms.het_breuschpagan(resid=mod.resid, exog_het=mod.model.exog)"
   ]
  },
  {
   "cell_type": "code",
   "execution_count": 66,
   "id": "c44ad811",
   "metadata": {},
   "outputs": [
    {
     "data": {
      "text/html": [
       "<table class=\"simpletable\">\n",
       "<caption>OLS Regression Results</caption>\n",
       "<tr>\n",
       "  <th>Dep. Variable:</th>    <td>np.log(price)</td> <th>  R-squared:         </th> <td>   0.933</td> \n",
       "</tr>\n",
       "<tr>\n",
       "  <th>Model:</th>                 <td>OLS</td>      <th>  Adj. R-squared:    </th> <td>   0.933</td> \n",
       "</tr>\n",
       "<tr>\n",
       "  <th>No. Observations:</th>    <td> 53940</td>     <th>  F-statistic:       </th> <td>1.520e+05</td>\n",
       "</tr>\n",
       "<tr>\n",
       "  <th>Covariance Type:</th>       <td>HC3</td>      <th>  Prob (F-statistic):</th>  <td>  0.00</td>  \n",
       "</tr>\n",
       "</table>\n",
       "<table class=\"simpletable\">\n",
       "<tr>\n",
       "        <td></td>           <th>coef</th>     <th>std err</th>      <th>z</th>      <th>P>|z|</th>  <th>[0.025</th>    <th>0.975]</th>  \n",
       "</tr>\n",
       "<tr>\n",
       "  <th>Intercept</th>     <td>    3.8839</td> <td>    0.274</td> <td>   14.168</td> <td> 0.000</td> <td>    3.347</td> <td>    4.421</td>\n",
       "</tr>\n",
       "<tr>\n",
       "  <th>carat</th>         <td>    2.1877</td> <td>    0.328</td> <td>    6.667</td> <td> 0.000</td> <td>    1.545</td> <td>    2.831</td>\n",
       "</tr>\n",
       "<tr>\n",
       "  <th>I(carat ** 2)</th> <td>   -0.6106</td> <td>    0.066</td> <td>   -9.313</td> <td> 0.000</td> <td>   -0.739</td> <td>   -0.482</td>\n",
       "</tr>\n",
       "<tr>\n",
       "  <th>x</th>             <td>    0.4155</td> <td>    0.114</td> <td>    3.652</td> <td> 0.000</td> <td>    0.192</td> <td>    0.639</td>\n",
       "</tr>\n",
       "<tr>\n",
       "  <th>y</th>             <td>    0.0285</td> <td>    0.097</td> <td>    0.293</td> <td> 0.770</td> <td>   -0.162</td> <td>    0.219</td>\n",
       "</tr>\n",
       "<tr>\n",
       "  <th>z</th>             <td>    0.0391</td> <td>    0.041</td> <td>    0.965</td> <td> 0.335</td> <td>   -0.040</td> <td>    0.118</td>\n",
       "</tr>\n",
       "</table><br/><br/>Notes:<br/>[1] Standard Errors are heteroscedasticity robust (HC3)"
      ],
      "text/plain": [
       "<class 'statsmodels.iolib.summary.Summary'>\n",
       "\"\"\"\n",
       "                            OLS Regression Results                            \n",
       "==============================================================================\n",
       "Dep. Variable:          np.log(price)   R-squared:                       0.933\n",
       "Model:                            OLS   Adj. R-squared:                  0.933\n",
       "No. Observations:               53940   F-statistic:                 1.520e+05\n",
       "Covariance Type:                  HC3   Prob (F-statistic):               0.00\n",
       "=================================================================================\n",
       "                    coef    std err          z      P>|z|      [0.025      0.975]\n",
       "---------------------------------------------------------------------------------\n",
       "Intercept         3.8839      0.274     14.168      0.000       3.347       4.421\n",
       "carat             2.1877      0.328      6.667      0.000       1.545       2.831\n",
       "I(carat ** 2)    -0.6106      0.066     -9.313      0.000      -0.739      -0.482\n",
       "x                 0.4155      0.114      3.652      0.000       0.192       0.639\n",
       "y                 0.0285      0.097      0.293      0.770      -0.162       0.219\n",
       "z                 0.0391      0.041      0.965      0.335      -0.040       0.118\n",
       "=================================================================================\n",
       "\n",
       "Notes:\n",
       "[1] Standard Errors are heteroscedasticity robust (HC3)\n",
       "\"\"\""
      ]
     },
     "execution_count": 66,
     "metadata": {},
     "output_type": "execute_result"
    }
   ],
   "source": [
    "mod_hc=smf.ols(formula=di_eq, data=di_df).fit(cov_type='HC3')\n",
    "mod_hc.summary(slim=True)"
   ]
  },
  {
   "cell_type": "code",
   "execution_count": 67,
   "id": "d1936ebf",
   "metadata": {},
   "outputs": [
    {
     "data": {
      "text/html": [
       "<div>\n",
       "<style scoped>\n",
       "    .dataframe tbody tr th:only-of-type {\n",
       "        vertical-align: middle;\n",
       "    }\n",
       "\n",
       "    .dataframe tbody tr th {\n",
       "        vertical-align: top;\n",
       "    }\n",
       "\n",
       "    .dataframe thead th {\n",
       "        text-align: right;\n",
       "    }\n",
       "</style>\n",
       "<table border=\"1\" class=\"dataframe\">\n",
       "  <thead>\n",
       "    <tr style=\"text-align: right;\">\n",
       "      <th></th>\n",
       "      <th>Coef.</th>\n",
       "      <th>Std.Err.</th>\n",
       "      <th>t</th>\n",
       "      <th>P&gt;|t|</th>\n",
       "      <th>[0.005</th>\n",
       "      <th>0.995]</th>\n",
       "      <th>sign.regressors</th>\n",
       "    </tr>\n",
       "  </thead>\n",
       "  <tbody>\n",
       "    <tr>\n",
       "      <th>Intercept</th>\n",
       "      <td>3.883898</td>\n",
       "      <td>0.274132</td>\n",
       "      <td>14.168000</td>\n",
       "      <td>1.445596e-45</td>\n",
       "      <td>3.177782</td>\n",
       "      <td>4.590015</td>\n",
       "      <td>Значим</td>\n",
       "    </tr>\n",
       "    <tr>\n",
       "      <th>carat</th>\n",
       "      <td>2.187715</td>\n",
       "      <td>0.328144</td>\n",
       "      <td>6.666932</td>\n",
       "      <td>2.612064e-11</td>\n",
       "      <td>1.342472</td>\n",
       "      <td>3.032959</td>\n",
       "      <td>Значим</td>\n",
       "    </tr>\n",
       "    <tr>\n",
       "      <th>I(carat ** 2)</th>\n",
       "      <td>-0.610612</td>\n",
       "      <td>0.065567</td>\n",
       "      <td>-9.312827</td>\n",
       "      <td>1.244745e-20</td>\n",
       "      <td>-0.779500</td>\n",
       "      <td>-0.441723</td>\n",
       "      <td>Значим</td>\n",
       "    </tr>\n",
       "    <tr>\n",
       "      <th>x</th>\n",
       "      <td>0.415510</td>\n",
       "      <td>0.113785</td>\n",
       "      <td>3.651729</td>\n",
       "      <td>2.604807e-04</td>\n",
       "      <td>0.122421</td>\n",
       "      <td>0.708600</td>\n",
       "      <td>Значим</td>\n",
       "    </tr>\n",
       "    <tr>\n",
       "      <th>y</th>\n",
       "      <td>0.028519</td>\n",
       "      <td>0.097417</td>\n",
       "      <td>0.292755</td>\n",
       "      <td>7.697093e-01</td>\n",
       "      <td>-0.222409</td>\n",
       "      <td>0.279448</td>\n",
       "      <td>Незначим</td>\n",
       "    </tr>\n",
       "    <tr>\n",
       "      <th>z</th>\n",
       "      <td>0.039077</td>\n",
       "      <td>0.040509</td>\n",
       "      <td>0.964642</td>\n",
       "      <td>3.347242e-01</td>\n",
       "      <td>-0.065268</td>\n",
       "      <td>0.143421</td>\n",
       "      <td>Незначим</td>\n",
       "    </tr>\n",
       "  </tbody>\n",
       "</table>\n",
       "</div>"
      ],
      "text/plain": [
       "                  Coef.  Std.Err.          t         P>|t|    [0.005  \\\n",
       "Intercept      3.883898  0.274132  14.168000  1.445596e-45  3.177782   \n",
       "carat          2.187715  0.328144   6.666932  2.612064e-11  1.342472   \n",
       "I(carat ** 2) -0.610612  0.065567  -9.312827  1.244745e-20 -0.779500   \n",
       "x              0.415510  0.113785   3.651729  2.604807e-04  0.122421   \n",
       "y              0.028519  0.097417   0.292755  7.697093e-01 -0.222409   \n",
       "z              0.039077  0.040509   0.964642  3.347242e-01 -0.065268   \n",
       "\n",
       "                 0.995] sign.regressors  \n",
       "Intercept      4.590015          Значим  \n",
       "carat          3.032959          Значим  \n",
       "I(carat ** 2) -0.441723          Значим  \n",
       "x              0.708600          Значим  \n",
       "y              0.279448        Незначим  \n",
       "z              0.143421        Незначим  "
      ]
     },
     "execution_count": 67,
     "metadata": {},
     "output_type": "execute_result"
    }
   ],
   "source": [
    "alpha=0.01 # Уровень значимости\n",
    "df = summary_params(mod_hc, alpha=alpha)\n",
    "df['sign.regressors'] = df.apply(lambda x: 'Значим' if x['P>|t|']<alpha else 'Незначим', axis=1)\n",
    "df"
   ]
  },
  {
   "cell_type": "code",
   "execution_count": 49,
   "id": "a5a04a2c",
   "metadata": {},
   "outputs": [],
   "source": [
    "#коэфф при y незначим"
   ]
  },
  {
   "cell_type": "code",
   "execution_count": 69,
   "id": "e36d677b",
   "metadata": {},
   "outputs": [
    {
     "data": {
      "text/plain": [
       "152029.61568781827"
      ]
     },
     "execution_count": 69,
     "metadata": {},
     "output_type": "execute_result"
    }
   ],
   "source": [
    "mod_hc.fvalue\n",
    "#робастная тестовая статистика"
   ]
  },
  {
   "cell_type": "code",
   "execution_count": 68,
   "id": "513efd1c",
   "metadata": {},
   "outputs": [
    {
     "data": {
      "text/plain": [
       "3.02"
      ]
     },
     "execution_count": 68,
     "metadata": {},
     "output_type": "execute_result"
    }
   ],
   "source": [
    "# Критическое значение\n",
    "alpha=0.01\n",
    "F_crit =f.ppf(1-alpha, mod.df_model, mod.df_resid)\n",
    "F_crit.round(2)"
   ]
  },
  {
   "cell_type": "markdown",
   "id": "6a35e8d0",
   "metadata": {},
   "source": [
    "проверка на задаче артамонова"
   ]
  },
  {
   "cell_type": "markdown",
   "id": "2b546582",
   "metadata": {},
   "source": [
    "Для набора данных Labour рассмотрим линейную регрессию log(output) на log(capital), log(labour), log(capital)^2, log(labour)^2."
   ]
  },
  {
   "cell_type": "markdown",
   "id": "c42dca55",
   "metadata": {},
   "source": [
    "Потестируем значимость влияния labour, т.е. H0:βlog(labour)=βlog2(labour)=0"
   ]
  },
  {
   "cell_type": "code",
   "execution_count": 72,
   "id": "1c66bf91",
   "metadata": {},
   "outputs": [
    {
     "data": {
      "text/html": [
       "<table class=\"simpletable\">\n",
       "<caption>OLS Regression Results</caption>\n",
       "<tr>\n",
       "  <th>Dep. Variable:</th>    <td>np.log(output)</td> <th>  R-squared:         </th> <td>   0.895</td> \n",
       "</tr>\n",
       "<tr>\n",
       "  <th>Model:</th>                  <td>OLS</td>      <th>  Adj. R-squared:    </th> <td>   0.895</td> \n",
       "</tr>\n",
       "<tr>\n",
       "  <th>No. Observations:</th>     <td>   569</td>     <th>  F-statistic:       </th> <td>   1205.</td> \n",
       "</tr>\n",
       "<tr>\n",
       "  <th>Covariance Type:</th>     <td>nonrobust</td>   <th>  Prob (F-statistic):</th> <td>1.13e-274</td>\n",
       "</tr>\n",
       "</table>\n",
       "<table class=\"simpletable\">\n",
       "<tr>\n",
       "             <td></td>               <th>coef</th>     <th>std err</th>      <th>t</th>      <th>P>|t|</th>  <th>[0.025</th>    <th>0.975]</th>  \n",
       "</tr>\n",
       "<tr>\n",
       "  <th>Intercept</th>              <td>   -2.5967</td> <td>    0.175</td> <td>  -14.838</td> <td> 0.000</td> <td>   -2.940</td> <td>   -2.253</td>\n",
       "</tr>\n",
       "<tr>\n",
       "  <th>np.log(capital)</th>        <td>    0.1431</td> <td>    0.014</td> <td>    9.996</td> <td> 0.000</td> <td>    0.115</td> <td>    0.171</td>\n",
       "</tr>\n",
       "<tr>\n",
       "  <th>np.log(labour)</th>         <td>    0.4066</td> <td>    0.057</td> <td>    7.191</td> <td> 0.000</td> <td>    0.296</td> <td>    0.518</td>\n",
       "</tr>\n",
       "<tr>\n",
       "  <th>I(np.log(wage) ** 2)</th>   <td>    0.1190</td> <td>    0.008</td> <td>   15.584</td> <td> 0.000</td> <td>    0.104</td> <td>    0.134</td>\n",
       "</tr>\n",
       "<tr>\n",
       "  <th>I(np.log(labour) ** 2)</th> <td>    0.0357</td> <td>    0.006</td> <td>    5.831</td> <td> 0.000</td> <td>    0.024</td> <td>    0.048</td>\n",
       "</tr>\n",
       "</table><br/><br/>Notes:<br/>[1] Standard Errors assume that the covariance matrix of the errors is correctly specified."
      ],
      "text/plain": [
       "<class 'statsmodels.iolib.summary.Summary'>\n",
       "\"\"\"\n",
       "                            OLS Regression Results                            \n",
       "==============================================================================\n",
       "Dep. Variable:         np.log(output)   R-squared:                       0.895\n",
       "Model:                            OLS   Adj. R-squared:                  0.895\n",
       "No. Observations:                 569   F-statistic:                     1205.\n",
       "Covariance Type:            nonrobust   Prob (F-statistic):          1.13e-274\n",
       "==========================================================================================\n",
       "                             coef    std err          t      P>|t|      [0.025      0.975]\n",
       "------------------------------------------------------------------------------------------\n",
       "Intercept                 -2.5967      0.175    -14.838      0.000      -2.940      -2.253\n",
       "np.log(capital)            0.1431      0.014      9.996      0.000       0.115       0.171\n",
       "np.log(labour)             0.4066      0.057      7.191      0.000       0.296       0.518\n",
       "I(np.log(wage) ** 2)       0.1190      0.008     15.584      0.000       0.104       0.134\n",
       "I(np.log(labour) ** 2)     0.0357      0.006      5.831      0.000       0.024       0.048\n",
       "==========================================================================================\n",
       "\n",
       "Notes:\n",
       "[1] Standard Errors assume that the covariance matrix of the errors is correctly specified.\n",
       "\"\"\""
      ]
     },
     "execution_count": 72,
     "metadata": {},
     "output_type": "execute_result"
    }
   ],
   "source": [
    "Labour_df = pd.read_csv('https://raw.githubusercontent.com/artamonoff/Econometrica/master/python-notebooks/data-csv/Labour.csv')\n",
    "specification = 'np.log(output)~np.log(capital)+np.log(labour)+I(np.log(wage)**2)+I(np.log(labour)**2)'\n",
    "lab=smf.ols(formula = specification, data=Labour_df).fit()\n",
    "lab.summary(slim=True)"
   ]
  },
  {
   "cell_type": "code",
   "execution_count": 74,
   "id": "dc3d3545",
   "metadata": {},
   "outputs": [
    {
     "data": {
      "text/html": [
       "<table class=\"simpletable\">\n",
       "<caption>OLS Regression Results</caption>\n",
       "<tr>\n",
       "  <th>Dep. Variable:</th>    <td>np.log(output)</td> <th>  R-squared:         </th> <td>   0.895</td> \n",
       "</tr>\n",
       "<tr>\n",
       "  <th>Model:</th>                  <td>OLS</td>      <th>  Adj. R-squared:    </th> <td>   0.895</td> \n",
       "</tr>\n",
       "<tr>\n",
       "  <th>No. Observations:</th>     <td>   569</td>     <th>  F-statistic:       </th> <td>   773.7</td> \n",
       "</tr>\n",
       "<tr>\n",
       "  <th>Covariance Type:</th>        <td>HC3</td>      <th>  Prob (F-statistic):</th> <td>2.40e-227</td>\n",
       "</tr>\n",
       "</table>\n",
       "<table class=\"simpletable\">\n",
       "<tr>\n",
       "             <td></td>               <th>coef</th>     <th>std err</th>      <th>z</th>      <th>P>|z|</th>  <th>[0.025</th>    <th>0.975]</th>  \n",
       "</tr>\n",
       "<tr>\n",
       "  <th>Intercept</th>              <td>   -2.5967</td> <td>    0.443</td> <td>   -5.861</td> <td> 0.000</td> <td>   -3.465</td> <td>   -1.728</td>\n",
       "</tr>\n",
       "<tr>\n",
       "  <th>np.log(capital)</th>        <td>    0.1431</td> <td>    0.028</td> <td>    5.164</td> <td> 0.000</td> <td>    0.089</td> <td>    0.197</td>\n",
       "</tr>\n",
       "<tr>\n",
       "  <th>np.log(labour)</th>         <td>    0.4066</td> <td>    0.167</td> <td>    2.435</td> <td> 0.015</td> <td>    0.079</td> <td>    0.734</td>\n",
       "</tr>\n",
       "<tr>\n",
       "  <th>I(np.log(wage) ** 2)</th>   <td>    0.1190</td> <td>    0.012</td> <td>    9.954</td> <td> 0.000</td> <td>    0.096</td> <td>    0.142</td>\n",
       "</tr>\n",
       "<tr>\n",
       "  <th>I(np.log(labour) ** 2)</th> <td>    0.0357</td> <td>    0.016</td> <td>    2.162</td> <td> 0.031</td> <td>    0.003</td> <td>    0.068</td>\n",
       "</tr>\n",
       "</table><br/><br/>Notes:<br/>[1] Standard Errors are heteroscedasticity robust (HC3)"
      ],
      "text/plain": [
       "<class 'statsmodels.iolib.summary.Summary'>\n",
       "\"\"\"\n",
       "                            OLS Regression Results                            \n",
       "==============================================================================\n",
       "Dep. Variable:         np.log(output)   R-squared:                       0.895\n",
       "Model:                            OLS   Adj. R-squared:                  0.895\n",
       "No. Observations:                 569   F-statistic:                     773.7\n",
       "Covariance Type:                  HC3   Prob (F-statistic):          2.40e-227\n",
       "==========================================================================================\n",
       "                             coef    std err          z      P>|z|      [0.025      0.975]\n",
       "------------------------------------------------------------------------------------------\n",
       "Intercept                 -2.5967      0.443     -5.861      0.000      -3.465      -1.728\n",
       "np.log(capital)            0.1431      0.028      5.164      0.000       0.089       0.197\n",
       "np.log(labour)             0.4066      0.167      2.435      0.015       0.079       0.734\n",
       "I(np.log(wage) ** 2)       0.1190      0.012      9.954      0.000       0.096       0.142\n",
       "I(np.log(labour) ** 2)     0.0357      0.016      2.162      0.031       0.003       0.068\n",
       "==========================================================================================\n",
       "\n",
       "Notes:\n",
       "[1] Standard Errors are heteroscedasticity robust (HC3)\n",
       "\"\"\""
      ]
     },
     "execution_count": 74,
     "metadata": {},
     "output_type": "execute_result"
    }
   ],
   "source": [
    "lab_hc=smf.ols(formula=specification, data=Labour_df).fit(cov_type='HC3')\n",
    "lab_hc.summary(slim=True)"
   ]
  },
  {
   "cell_type": "code",
   "execution_count": 75,
   "id": "11707a19",
   "metadata": {},
   "outputs": [
    {
     "data": {
      "text/plain": [
       "(1205.438045553014, 773.6874376403765)"
      ]
     },
     "execution_count": 75,
     "metadata": {},
     "output_type": "execute_result"
    }
   ],
   "source": [
    "lab.fvalue, lab_hc.fvalue"
   ]
  },
  {
   "cell_type": "code",
   "execution_count": 85,
   "id": "dc883232",
   "metadata": {},
   "outputs": [
    {
     "name": "stdout",
     "output_type": "stream",
     "text": [
      "<F test: F=4.674070603204485, p=0.031041118992956064, df_denom=564, df_num=1>\n"
     ]
    }
   ],
   "source": [
    "F_stat=lab_hc.f_test('I(np.log(labour) ** 2)=0')\n",
    "print(F_stat)"
   ]
  },
  {
   "cell_type": "code",
   "execution_count": 86,
   "id": "12337af1",
   "metadata": {},
   "outputs": [
    {
     "data": {
      "text/plain": [
       "6.680024975020216"
      ]
     },
     "execution_count": 86,
     "metadata": {},
     "output_type": "execute_result"
    }
   ],
   "source": [
    "# Критическое значение\n",
    "alpha=0.01\n",
    "F_crit =f.ppf(1-alpha, 1, 564)\n",
    "F_crit"
   ]
  },
  {
   "cell_type": "markdown",
   "id": "9babce5a",
   "metadata": {},
   "source": [
    "Вывод: регрессор незначим (робастный F-тест: F_stat < F_crit или P-value > alpha)"
   ]
  },
  {
   "cell_type": "code",
   "execution_count": null,
   "id": "54781725",
   "metadata": {},
   "outputs": [],
   "source": []
  }
 ],
 "metadata": {
  "kernelspec": {
   "display_name": "Python 3 (ipykernel)",
   "language": "python",
   "name": "python3"
  },
  "language_info": {
   "codemirror_mode": {
    "name": "ipython",
    "version": 3
   },
   "file_extension": ".py",
   "mimetype": "text/x-python",
   "name": "python",
   "nbconvert_exporter": "python",
   "pygments_lexer": "ipython3",
   "version": "3.9.13"
  }
 },
 "nbformat": 4,
 "nbformat_minor": 5
}
